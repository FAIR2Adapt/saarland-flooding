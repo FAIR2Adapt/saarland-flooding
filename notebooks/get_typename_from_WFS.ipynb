{
 "cells": [
  {
   "cell_type": "markdown",
   "id": "18cf7739-a9b9-496c-973d-c36f8f3e0515",
   "metadata": {
    "editable": true,
    "slideshow": {
     "slide_type": ""
    },
    "tags": []
   },
   "source": [
    "---\n",
    "title: Get data layer names from WFS service URL\n",
    "subtitle: Learn how to get the typename (e.g. data layers) which are requested for querying WFS services-\n",
    "authors:\n",
    "  - name: Anne Fouilloux\n",
    "    orcid: 0000-0002-1784-2920\n",
    "    github: annefou\n",
    "    affiliations:\n",
    "      - id: Simula Research Laboratory\n",
    "        institution: Simula Research Laboratory\n",
    "        ror: 00vn06n10\n",
    "date: 2025-05-17\n",
    "keywords : wfs\n",
    "---"
   ]
  },
  {
   "cell_type": "markdown",
   "id": "915cde32-be28-43df-a146-b8fc9125140a",
   "metadata": {
    "editable": true,
    "slideshow": {
     "slide_type": ""
    },
    "tags": []
   },
   "source": [
    "```{image} https://www.en.urbandataplatform.hamburg/resource/crblob/797502/9c2f2d2edc1149673134bf88ece1dda5/logo-udp-data.jpg\n",
    ":alt: Urban Data Portal Logo\n",
    ":width: 250px\n",
    ":align: center\n",
    "```"
   ]
  },
  {
   "cell_type": "markdown",
   "id": "cd3cfd7c-2cc2-49df-9248-742a7fab3948",
   "metadata": {
    "editable": true,
    "slideshow": {
     "slide_type": ""
    },
    "tags": []
   },
   "source": [
    "(introduction)=\n",
    "## Introduction\n",
    "\n",
    "The WFS (Web Feature Service) from the Urban Data Portal provides access to geospatial vector data—such as flood zones, land use, and industrial facilities—allowing users to query, download, and integrate these datasets into applications and analyses directly via standardized web protocols.\n",
    "\n",
    "### Purpose\n",
    "This code connects to the WFS service from the Saarland Urban Data Portal and retrieves the list of available typeName values (i.e. data layers), which are needed to query specific datasets such as flood zones or industrial facilities."
   ]
  },
  {
   "cell_type": "markdown",
   "id": "499f6765-6958-45bb-a06b-8d320f2dad6e",
   "metadata": {
    "editable": true,
    "slideshow": {
     "slide_type": ""
    },
    "tags": []
   },
   "source": [
    "(overview)=\n",
    ":::{hint} Overview\n",
    "**Questions**\n",
    "- What is a WFS (Web Feature Service) and how can it be accessed programmatically?\n",
    "- What are `typeName` values and how do they help us understand the structure and content of a WFS dataset?\n",
    "\n",
    "**Objectives**\n",
    "- Learn how to connect to a WFS endpoint from the Urban Data Portal.\n",
    "- Retrieve and inspect the available `typeName` values to identify which geospatial layers can be queried and used in analysis.\n",
    ":::"
   ]
  },
  {
   "cell_type": "markdown",
   "id": "4e4c3a91-baac-4782-9760-58aac1cb395a",
   "metadata": {
    "editable": true,
    "slideshow": {
     "slide_type": ""
    },
    "tags": []
   },
   "source": [
    "(requirements)=\n",
    "## Requirements\n",
    "Start installing and importing the necessary libraries\n",
    "### Install Python Packages"
   ]
  },
  {
   "cell_type": "code",
   "execution_count": 5,
   "id": "2472f133-d4b2-45c2-af04-9093c57d1b41",
   "metadata": {
    "collapsed": true,
    "editable": true,
    "jupyter": {
     "outputs_hidden": true
    },
    "slideshow": {
     "slide_type": ""
    },
    "tags": []
   },
   "outputs": [
    {
     "name": "stdout",
     "output_type": "stream",
     "text": [
      "Requirement already satisfied: owslib in /Users/annef/mamba/envs/papermill/lib/python3.12/site-packages (0.33.0)\n",
      "Collecting pyproj\n",
      "  Downloading pyproj-3.7.1-cp312-cp312-macosx_14_0_arm64.whl.metadata (31 kB)\n",
      "Requirement already satisfied: lxml in /Users/annef/mamba/envs/papermill/lib/python3.12/site-packages (from owslib) (5.4.0)\n",
      "Requirement already satisfied: python-dateutil in /Users/annef/mamba/envs/papermill/lib/python3.12/site-packages (from owslib) (2.9.0.post0)\n",
      "Requirement already satisfied: pyyaml in /Users/annef/mamba/envs/papermill/lib/python3.12/site-packages (from owslib) (6.0.2)\n",
      "Requirement already satisfied: requests in /Users/annef/mamba/envs/papermill/lib/python3.12/site-packages (from owslib) (2.32.3)\n",
      "Requirement already satisfied: certifi in /Users/annef/mamba/envs/papermill/lib/python3.12/site-packages (from pyproj) (2025.4.26)\n",
      "Requirement already satisfied: six>=1.5 in /Users/annef/mamba/envs/papermill/lib/python3.12/site-packages (from python-dateutil->owslib) (1.17.0)\n",
      "Requirement already satisfied: charset_normalizer<4,>=2 in /Users/annef/mamba/envs/papermill/lib/python3.12/site-packages (from requests->owslib) (3.4.2)\n",
      "Requirement already satisfied: idna<4,>=2.5 in /Users/annef/mamba/envs/papermill/lib/python3.12/site-packages (from requests->owslib) (3.10)\n",
      "Requirement already satisfied: urllib3<3,>=1.21.1 in /Users/annef/mamba/envs/papermill/lib/python3.12/site-packages (from requests->owslib) (2.4.0)\n",
      "Downloading pyproj-3.7.1-cp312-cp312-macosx_14_0_arm64.whl (4.7 MB)\n",
      "\u001b[2K   \u001b[90m━━━━━━━━━━━━━━━━━━━━━━━━━━━━━━━━━━━━━━━━\u001b[0m \u001b[32m4.7/4.7 MB\u001b[0m \u001b[31m11.0 MB/s\u001b[0m eta \u001b[36m0:00:00\u001b[0ma \u001b[36m0:00:01\u001b[0m\n",
      "\u001b[?25hInstalling collected packages: pyproj\n",
      "Successfully installed pyproj-3.7.1\n",
      "Note: you may need to restart the kernel to use updated packages.\n"
     ]
    }
   ],
   "source": [
    "pip install owslib pyproj"
   ]
  },
  {
   "cell_type": "markdown",
   "id": "9bb3e11a-32ee-493c-8ea6-657b5648fb72",
   "metadata": {
    "editable": true,
    "slideshow": {
     "slide_type": ""
    },
    "tags": []
   },
   "source": [
    "(setup)=\n",
    "### Import Python Packages"
   ]
  },
  {
   "cell_type": "code",
   "execution_count": 6,
   "id": "25857305-3bd8-4c99-8af7-1c71b6a928f0",
   "metadata": {
    "editable": true,
    "slideshow": {
     "slide_type": ""
    },
    "tags": []
   },
   "outputs": [],
   "source": [
    "from owslib.wfs import WebFeatureService"
   ]
  },
  {
   "cell_type": "markdown",
   "id": "d1cb1444-4693-42fa-aac6-4728f86b2a04",
   "metadata": {
    "editable": true,
    "slideshow": {
     "slide_type": ""
    },
    "tags": []
   },
   "source": [
    "(parameters)=\n",
    "## Input data required\n",
    "### Set input parameters for WFS request"
   ]
  },
  {
   "cell_type": "code",
   "execution_count": 10,
   "id": "ef823e34-f384-4294-a4da-50363e00811a",
   "metadata": {
    "editable": true,
    "slideshow": {
     "slide_type": ""
    },
    "tags": [
     "parameters"
    ]
   },
   "outputs": [],
   "source": [
    "wfs_url: str = \"https://geoportal.saarland.de/arcgis/services/Internet/Hochwasser_WFS/MapServer/WFSServer?&request=GetCapabilities&VERSION=1.1.0&SERVICE=WFS\""
   ]
  },
  {
   "cell_type": "markdown",
   "id": "932e1140-b0bb-47ec-b469-af5559b0ada3",
   "metadata": {
    "editable": true,
    "slideshow": {
     "slide_type": ""
    },
    "tags": []
   },
   "source": [
    "(retrieve)=\n",
    "## Get the different data layers (typename)"
   ]
  },
  {
   "cell_type": "code",
   "execution_count": 8,
   "id": "95d973e6",
   "metadata": {
    "editable": true,
    "slideshow": {
     "slide_type": ""
    },
    "tags": []
   },
   "outputs": [
    {
     "name": "stdout",
     "output_type": "stream",
     "text": [
      "Available typeName values:\n",
      "Hochwasser_WFS:Betr_EW\n",
      "Hochwasser_WFS:Flaechennutzung_HQ_Extrem\n",
      "Hochwasser_WFS:Wassertiefe_HQ_Extrem\n",
      "Hochwasser_WFS:Flaechennutzung_HQ100\n",
      "Hochwasser_WFS:Wassertiefe_HQ_100\n",
      "Hochwasser_WFS:FlaecheEXT_generalisiert\n",
      "Hochwasser_WFS:Flaeche100_generalisiert\n",
      "Hochwasser_WFS:Ueberschwemmungsgebiet\n"
     ]
    }
   ],
   "source": [
    "try:\n",
    "    # Connect to WFS service\n",
    "    wfs = WebFeatureService(wfs_url)\n",
    "    \n",
    "    # List all typeName values\n",
    "    print(\"Available typeName values:\")\n",
    "    for typename in wfs.contents:\n",
    "        print(typename)\n",
    "\n",
    "except Exception as e:\n",
    "    print(f\"Error: {e}\")"
   ]
  },
  {
   "cell_type": "code",
   "execution_count": null,
   "id": "1520955c-0baf-481d-ba86-11d48466f70f",
   "metadata": {
    "editable": true,
    "slideshow": {
     "slide_type": ""
    },
    "tags": []
   },
   "outputs": [],
   "source": []
  },
  {
   "cell_type": "code",
   "execution_count": null,
   "id": "33a437ea-cabb-47f9-a6ce-7fd28fd04d11",
   "metadata": {
    "editable": true,
    "slideshow": {
     "slide_type": ""
    },
    "tags": []
   },
   "outputs": [],
   "source": []
  },
  {
   "cell_type": "code",
   "execution_count": null,
   "id": "84f69981-7dc5-4239-bf6f-2a7313340f6a",
   "metadata": {
    "editable": true,
    "slideshow": {
     "slide_type": ""
    },
    "tags": []
   },
   "outputs": [],
   "source": []
  },
  {
   "cell_type": "code",
   "execution_count": null,
   "id": "159cafa3-071b-4170-98f1-f5c07485a9ac",
   "metadata": {
    "editable": true,
    "slideshow": {
     "slide_type": ""
    },
    "tags": []
   },
   "outputs": [],
   "source": []
  }
 ],
 "metadata": {
  "author": [
   {
    "@type": "Person",
    "familyName": "Claus",
    "givenName": "Michele",
    "url": "https://orcid.org/0000-0003-3680-381X",
    "worksFor": {
     "@type": "Organization",
     "name": "Eurac Research"
    }
   }
  ],
  "funder": [
   {
    "name": "ESA"
   }
  ],
  "kernelspec": {
   "display_name": "Python 3 (ipykernel)",
   "language": "python",
   "name": "python3"
  },
  "language_info": {
   "codemirror_mode": {
    "name": "ipython",
    "version": 3
   },
   "file_extension": ".py",
   "mimetype": "text/x-python",
   "name": "python",
   "nbconvert_exporter": "python",
   "pygments_lexer": "ipython3",
   "version": "3.12.10"
  },
  "name": "Notebook Title",
  "widgets": {
   "application/vnd.jupyter.widget-state+json": {
    "state": {},
    "version_major": 2,
    "version_minor": 0
   }
  }
 },
 "nbformat": 4,
 "nbformat_minor": 5
}
